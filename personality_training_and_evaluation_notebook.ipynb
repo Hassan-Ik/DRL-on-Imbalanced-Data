{
 "cells": [
  {
   "cell_type": "code",
   "execution_count": null,
   "metadata": {},
   "outputs": [],
   "source": [
    "from DDQNAgent import Agent\n",
    "from Datasets import PersonalityDataset\n",
    "from QNetwork import QNetwork\n",
    "from Memory import Memory"
   ]
  },
  {
   "cell_type": "code",
   "execution_count": null,
   "metadata": {},
   "outputs": [],
   "source": [
    "class Config:\n",
    "    def __init__(self, new_class, minor_classes, train_step, restore_model_path, gamma, learning_rate, batch, \n",
    "                epsilon_range, epsilon_polynomial_decay_step, target_soft_update, target_update_step, save_term, evaluation_term,\n",
    "                show_phase):\n",
    "        self.new_class = new_class\n",
    "        self.minor_classes = minor_classes\n",
    "        self.train_step = train_step\n",
    "        self.restore_model_path = restore_model_path\n",
    "        self.gamma = gamma\n",
    "        self.learning_rate = learning_rate\n",
    "        self.batch = batch\n",
    "        self.epsilon_range = epsilon_range\n",
    "        self.epsilon_polynomial_decay_step = epsilon_polynomial_decay_step\n",
    "        self.target_soft_update = target_soft_update\n",
    "        self.target_update_step = target_update_step\n",
    "        self.save_folder = '.model'\n",
    "        self.save_term = save_term\n",
    "        self.evaluation_term = evaluation_term\n",
    "        self.show_phase = show_phase\n",
    "\n",
    "config = Config({0:[0], 1:[1], 2:[2], 3:[3], 4:[4], 5:[5], 6:[6], 7:[7], 8:[8], 9:[9], 10:[10], 11:[11], 12:[12], 13:[13], 14:[14], 15:[15]}, [0, 1, 2, 3], 50000, '', 0.1, 0.00025, 32, [0.01, 1], 120000, 1., 1000, 120000, 1000, 'Validation')"
   ]
  },
  {
   "cell_type": "code",
   "execution_count": null,
   "metadata": {},
   "outputs": [],
   "source": [
    "dataset = PersonalityDataset(batch_size=64)"
   ]
  },
  {
   "cell_type": "code",
   "execution_count": null,
   "metadata": {},
   "outputs": [],
   "source": [
    "q_network = QNetwork(config, 60, 'simple')\n",
    "memory = Memory()\n",
    "agent = Agent(q_network, dataset, memory, config)\n",
    "agent.train()"
   ]
  }
 ],
 "metadata": {
  "language_info": {
   "name": "python"
  }
 },
 "nbformat": 4,
 "nbformat_minor": 2
}
