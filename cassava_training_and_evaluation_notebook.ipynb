{
 "cells": [
  {
   "cell_type": "code",
   "execution_count": null,
   "id": "39ebb659",
   "metadata": {},
   "outputs": [],
   "source": [
    "from DDQNAgent import Agent\n",
    "from Datasets import CassavaLeafDataset\n",
    "from QNetwork import QNetwork\n",
    "from Memory import Memory"
   ]
  },
  {
   "cell_type": "code",
   "execution_count": null,
   "id": "21a9cbb3",
   "metadata": {},
   "outputs": [],
   "source": [
    "class Config:\n",
    "    def __init__(self, new_class, minor_classes, train_step, restore_model_path, gamma, learning_rate, batch, \n",
    "                epsilon_range, epsilon_polynomial_decay_step, target_soft_update, target_update_step, save_term, evaluation_term,\n",
    "                show_phase):\n",
    "        self.new_class = new_class\n",
    "        self.minor_classes = minor_classes\n",
    "        self.train_step = train_step\n",
    "        self.restore_model_path = restore_model_path\n",
    "        self.gamma = gamma\n",
    "        self.learning_rate = learning_rate\n",
    "        self.batch = batch\n",
    "        self.epsilon_range = epsilon_range\n",
    "        self.epsilon_polynomial_decay_step = epsilon_polynomial_decay_step\n",
    "        self.target_soft_update = target_soft_update\n",
    "        self.target_update_step = target_update_step\n",
    "        self.save_folder = '.model'\n",
    "        self.save_term = save_term\n",
    "        self.evaluation_term = evaluation_term\n",
    "        self.show_phase = show_phase\n",
    "\n",
    "config = Config({0:[0], 1:[1], 2:[2], 3: [3], 4:[4]}, [0, 1, 2], 120000, '', 0.1, 0.00025, 32, [0.01, 1], 120000, 1., 1000, 120000, 1000, 'Validation')"
   ]
  },
  {
   "cell_type": "code",
   "execution_count": null,
   "id": "b9d281a8",
   "metadata": {},
   "outputs": [
    {
     "name": "stdout",
     "output_type": "stream",
     "text": [
      "No of total samples in dataset and their distribution:  (array([0, 1, 2, 3, 4], dtype=int64), array([ 1087,  2189,  2386, 13158,  2577], dtype=int64))\n",
      "\n",
      "Reward for each class.\n",
      "\t- Class 0 : 0.781136\n",
      "\t- Class 1 : 0.387891\n",
      "\t- Class 2 : 0.355865\n",
      "\t- Class 3 : 0.064531\n",
      "\t- Class 4 : 0.329489\n",
      "Label is  [0 1 2 3 4]\n",
      "Labels with count {0: 1087, 1: 2189, 2: 2386, 3: 13158, 4: 2577}\n"
     ]
    }
   ],
   "source": [
    "dataset = CassavaLeafDataset(image_size = (128, 128), batch_size=64)"
   ]
  },
  {
   "cell_type": "code",
   "execution_count": null,
   "id": "22a08728",
   "metadata": {},
   "outputs": [
    {
     "name": "stderr",
     "output_type": "stream",
     "text": [
      "C:\\Users\\hassa\\OneDrive\\Desktop\\AI Degree\\Knowledge Representation and Reasonins\\DRL-on-Imbalanced-Data\\network.py:90: UserWarning: `tf.layers.conv2d` is deprecated and will be removed in a future version. Please Use `tf.keras.layers.Conv2D` instead.\n",
      "  x = tf.compat.v1.layers.conv2d(self.state, filters=32, kernel_size=3, strides=2, padding='same', activation=tf.nn.relu)\n",
      "C:\\Users\\hassa\\OneDrive\\Desktop\\AI Degree\\Knowledge Representation and Reasonins\\DRL-on-Imbalanced-Data\\network.py:91: UserWarning: `tf.layers.conv2d` is deprecated and will be removed in a future version. Please Use `tf.keras.layers.Conv2D` instead.\n",
      "  x = tf.compat.v1.layers.conv2d(x, filters=32, kernel_size=3, strides=2, activation=tf.nn.relu)\n",
      "C:\\Users\\hassa\\OneDrive\\Desktop\\AI Degree\\Knowledge Representation and Reasonins\\DRL-on-Imbalanced-Data\\network.py:92: UserWarning: `tf.layers.batch_normalization` is deprecated and will be removed in a future version. Please use `tf.keras.layers.BatchNormalization` instead. In particular, `tf.control_dependencies(tf.GraphKeys.UPDATE_OPS)` should not be used (consult the `tf.keras.layers.BatchNormalization` documentation).\n",
      "  x = tf.compat.v1.layers.batch_normalization(x)\n",
      "C:\\Users\\hassa\\OneDrive\\Desktop\\AI Degree\\Knowledge Representation and Reasonins\\DRL-on-Imbalanced-Data\\network.py:94: UserWarning: `tf.layers.conv2d` is deprecated and will be removed in a future version. Please Use `tf.keras.layers.Conv2D` instead.\n",
      "  x = tf.compat.v1.layers.conv2d(x, filters=64, kernel_size=3, strides=1, activation=tf.nn.relu)\n",
      "C:\\Users\\hassa\\OneDrive\\Desktop\\AI Degree\\Knowledge Representation and Reasonins\\DRL-on-Imbalanced-Data\\network.py:95: UserWarning: `tf.layers.conv2d` is deprecated and will be removed in a future version. Please Use `tf.keras.layers.Conv2D` instead.\n",
      "  x = tf.compat.v1.layers.conv2d(x, filters=128, kernel_size=3, strides=1, activation=tf.nn.relu)\n",
      "C:\\Users\\hassa\\OneDrive\\Desktop\\AI Degree\\Knowledge Representation and Reasonins\\DRL-on-Imbalanced-Data\\network.py:96: UserWarning: `tf.layers.batch_normalization` is deprecated and will be removed in a future version. Please use `tf.keras.layers.BatchNormalization` instead. In particular, `tf.control_dependencies(tf.GraphKeys.UPDATE_OPS)` should not be used (consult the `tf.keras.layers.BatchNormalization` documentation).\n",
      "  x = tf.compat.v1.layers.batch_normalization(x)\n",
      "C:\\Users\\hassa\\OneDrive\\Desktop\\AI Degree\\Knowledge Representation and Reasonins\\DRL-on-Imbalanced-Data\\network.py:98: UserWarning: `tf.layers.conv2d` is deprecated and will be removed in a future version. Please Use `tf.keras.layers.Conv2D` instead.\n",
      "  x = tf.compat.v1.layers.conv2d(x, filters=64, kernel_size=3, strides=1, activation=tf.nn.relu)\n",
      "C:\\Users\\hassa\\OneDrive\\Desktop\\AI Degree\\Knowledge Representation and Reasonins\\DRL-on-Imbalanced-Data\\network.py:99: UserWarning: `tf.layers.conv2d` is deprecated and will be removed in a future version. Please Use `tf.keras.layers.Conv2D` instead.\n",
      "  x = tf.compat.v1.layers.conv2d(x, filters=128, kernel_size=3, strides=1, activation=tf.nn.relu)\n",
      "C:\\Users\\hassa\\OneDrive\\Desktop\\AI Degree\\Knowledge Representation and Reasonins\\DRL-on-Imbalanced-Data\\network.py:100: UserWarning: `tf.layers.batch_normalization` is deprecated and will be removed in a future version. Please use `tf.keras.layers.BatchNormalization` instead. In particular, `tf.control_dependencies(tf.GraphKeys.UPDATE_OPS)` should not be used (consult the `tf.keras.layers.BatchNormalization` documentation).\n",
      "  x = tf.compat.v1.layers.batch_normalization(x)\n",
      "C:\\Users\\hassa\\OneDrive\\Desktop\\AI Degree\\Knowledge Representation and Reasonins\\DRL-on-Imbalanced-Data\\network.py:102: UserWarning: `tf.layers.flatten` is deprecated and will be removed in a future version. Please use `tf.keras.layers.Flatten` instead.\n",
      "  x = tf.compat.v1.layers.flatten(x)\n",
      "C:\\Users\\hassa\\OneDrive\\Desktop\\AI Degree\\Knowledge Representation and Reasonins\\DRL-on-Imbalanced-Data\\network.py:104: UserWarning: `tf.layers.dense` is deprecated and will be removed in a future version. Please use `tf.keras.layers.Dense` instead.\n",
      "  x = tf.compat.v1.layers.dense(x, 128, activation='relu')\n",
      "C:\\Users\\hassa\\OneDrive\\Desktop\\AI Degree\\Knowledge Representation and Reasonins\\DRL-on-Imbalanced-Data\\network.py:105: UserWarning: `tf.layers.dense` is deprecated and will be removed in a future version. Please use `tf.keras.layers.Dense` instead.\n",
      "  x = tf.compat.v1.layers.dense(x, 64, activation='relu')\n",
      "C:\\Users\\hassa\\OneDrive\\Desktop\\AI Degree\\Knowledge Representation and Reasonins\\DRL-on-Imbalanced-Data\\network.py:106: UserWarning: `tf.layers.dense` is deprecated and will be removed in a future version. Please use `tf.keras.layers.Dense` instead.\n",
      "  a = tf.compat.v1.layers.dense(x, self.n_class)\n",
      "C:\\Users\\hassa\\OneDrive\\Desktop\\AI Degree\\Knowledge Representation and Reasonins\\DRL-on-Imbalanced-Data\\network.py:107: UserWarning: `tf.layers.dense` is deprecated and will be removed in a future version. Please use `tf.keras.layers.Dense` instead.\n",
      "  v = tf.compat.v1.layers.dense(x, 1)\n"
     ]
    },
    {
     "name": "stdout",
     "output_type": "stream",
     "text": [
      "Starting Training.......\n"
     ]
    }
   ],
   "source": [
    "q_network = QNetwork(config, 128, 'complex')\n",
    "memory = Memory()\n",
    "agent = Agent(q_network, dataset, memory, config)\n",
    "agent.train()"
   ]
  },
  {
   "cell_type": "code",
   "execution_count": null,
   "id": "983087f0",
   "metadata": {},
   "outputs": [],
   "source": []
  }
 ],
 "metadata": {
  "kernelspec": {
   "display_name": "Python 3 (ipykernel)",
   "language": "python",
   "name": "python3"
  },
  "language_info": {
   "codemirror_mode": {
    "name": "ipython",
    "version": 3
   },
   "file_extension": ".py",
   "mimetype": "text/x-python",
   "name": "python",
   "nbconvert_exporter": "python",
   "pygments_lexer": "ipython3",
   "version": "3.11.5"
  }
 },
 "nbformat": 4,
 "nbformat_minor": 5
}
